{
 "cells": [
  {
   "cell_type": "code",
   "execution_count": 1,
   "metadata": {},
   "outputs": [
    {
     "name": "stdout",
     "output_type": "stream",
     "text": [
      "Sum of all nodes in the perfect binary tree: 36893488143124135936\n"
     ]
    }
   ],
   "source": [
    "def calculate_sum_of_perfect_binary_tree(height):\n",
    "    num_nodes = 2 ** height - 1\n",
    "    first_term = 1\n",
    "    last_term = 2 ** height - 1\n",
    "    total_sum = (num_nodes / 2) * (first_term + last_term)\n",
    "    return int(total_sum)\n",
    "\n",
    "\n",
    "height = int(input(\"Enter the height of the perfect binary tree: \"))\n",
    "\n",
    "\n",
    "sum_of_nodes = calculate_sum_of_perfect_binary_tree(height)\n",
    "print(\"Sum of all nodes in the perfect binary tree:\", sum_of_nodes)"
   ]
  }
 ],
 "metadata": {
  "kernelspec": {
   "display_name": "Python 3",
   "language": "python",
   "name": "python3"
  },
  "language_info": {
   "codemirror_mode": {
    "name": "ipython",
    "version": 3
   },
   "file_extension": ".py",
   "mimetype": "text/x-python",
   "name": "python",
   "nbconvert_exporter": "python",
   "pygments_lexer": "ipython3",
   "version": "3.11.4"
  }
 },
 "nbformat": 4,
 "nbformat_minor": 2
}
