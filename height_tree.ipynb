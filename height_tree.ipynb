{
 "cells": [
  {
   "cell_type": "code",
   "execution_count": 3,
   "metadata": {},
   "outputs": [
    {
     "name": "stdout",
     "output_type": "stream",
     "text": [
      "Enter values to build the binary tree:\n",
      "Enter left child of 3:\n",
      "Enter left child of 2:\n",
      "Enter left child of 5:\n",
      "Enter left child of 4:\n",
      "Enter right child of 4:\n",
      "Enter right child of 5:\n",
      "Enter right child of 2:\n",
      "Enter right child of 3:\n",
      "Height of the tree: 3\n"
     ]
    }
   ],
   "source": [
    "class Node:\n",
    "    def __init__(self, key):\n",
    "        self.left = None\n",
    "        self.right = None\n",
    "        self.val = key\n",
    "\n",
    "def find_tree_height(node):\n",
    "    if node is None:\n",
    "        return -1  \n",
    "    \n",
    "    left_height = find_tree_height(node.left)\n",
    "    right_height = find_tree_height(node.right)\n",
    "    \n",
    "    \n",
    "    return max(left_height, right_height) + 1\n",
    "\n",
    "\n",
    "def build_binary_tree():\n",
    "    value = int(input(\"Enter the value for the node (or -1 to stop): \"))\n",
    "    if value == -1:\n",
    "        return None\n",
    "    \n",
    "    node = Node(value)\n",
    "    print(f\"Enter left child of {value}:\")\n",
    "    node.left = build_binary_tree()\n",
    "    print(f\"Enter right child of {value}:\")\n",
    "    node.right = build_binary_tree()\n",
    "    return node\n",
    "\n",
    "\n",
    "if __name__ == \"__main__\":\n",
    "    print(\"Enter values to build the binary tree:\")\n",
    "    root = build_binary_tree()\n",
    "\n",
    "    \n",
    "    height = find_tree_height(root)\n",
    "    print(\"Height of the tree:\", height)"
   ]
  }
 ],
 "metadata": {
  "kernelspec": {
   "display_name": "Python 3",
   "language": "python",
   "name": "python3"
  },
  "language_info": {
   "codemirror_mode": {
    "name": "ipython",
    "version": 3
   },
   "file_extension": ".py",
   "mimetype": "text/x-python",
   "name": "python",
   "nbconvert_exporter": "python",
   "pygments_lexer": "ipython3",
   "version": "3.11.4"
  }
 },
 "nbformat": 4,
 "nbformat_minor": 2
}
