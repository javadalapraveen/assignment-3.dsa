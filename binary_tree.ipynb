{
 "cells": [
  {
   "cell_type": "code",
   "execution_count": 1,
   "metadata": {},
   "outputs": [
    {
     "name": "stdout",
     "output_type": "stream",
     "text": [
      "In-order Traversal: [3, 5, 12, 44]\n",
      "Pre-order Traversal: [12, 5, 3, 44]\n",
      "Post-order Traversal: [3, 5, 44, 12]\n"
     ]
    }
   ],
   "source": [
    "class Node:\n",
    "    def __init__(self, key):\n",
    "        self.left = None\n",
    "        self.right = None\n",
    "        self.val = key\n",
    "\n",
    "class BinaryTree:\n",
    "    def __init__(self):\n",
    "        self.root = None\n",
    "    \n",
    "    def insert(self, key):\n",
    "        if self.root is None:\n",
    "            self.root = Node(key)\n",
    "        else:\n",
    "            self._insert_recursive(self.root, key)\n",
    "    \n",
    "    def _insert_recursive(self, node, key):\n",
    "        if key < node.val:\n",
    "            if node.left is None:\n",
    "                node.left = Node(key)\n",
    "            else:\n",
    "                self._insert_recursive(node.left, key)\n",
    "        elif key > node.val:\n",
    "            if node.right is None:\n",
    "                node.right = Node(key)\n",
    "            else:\n",
    "                self._insert_recursive(node.right, key)\n",
    "        \n",
    "    \n",
    "    def inorder_traversal(self):\n",
    "        result = []\n",
    "        self._inorder_traversal_recursive(self.root, result)\n",
    "        return result\n",
    "    \n",
    "    def _inorder_traversal_recursive(self, node, result):\n",
    "        if node:\n",
    "            self._inorder_traversal_recursive(node.left, result)\n",
    "            result.append(node.val)\n",
    "            self._inorder_traversal_recursive(node.right, result)\n",
    "    \n",
    "    def preorder_traversal(self):\n",
    "        result = []\n",
    "        self._preorder_traversal_recursive(self.root, result)\n",
    "        return result\n",
    "    \n",
    "    def _preorder_traversal_recursive(self, node, result):\n",
    "        if node:\n",
    "            result.append(node.val)\n",
    "            self._preorder_traversal_recursive(node.left, result)\n",
    "            self._preorder_traversal_recursive(node.right, result)\n",
    "    \n",
    "    def postorder_traversal(self):\n",
    "        result = []\n",
    "        self._postorder_traversal_recursive(self.root, result)\n",
    "        return result\n",
    "    \n",
    "    def _postorder_traversal_recursive(self, node, result):\n",
    "        if node:\n",
    "            self._postorder_traversal_recursive(node.left, result)\n",
    "            self._postorder_traversal_recursive(node.right, result)\n",
    "            result.append(node.val)\n",
    "\n",
    "\n",
    "if __name__ == \"__main__\":\n",
    "    tree = BinaryTree()\n",
    "    elements = list(map(int, input(\"Enter space-separated values for the binary tree: \").split()))\n",
    "    for element in elements:\n",
    "        tree.insert(element)\n",
    "\n",
    "    print(\"In-order Traversal:\", tree.inorder_traversal())\n",
    "    print(\"Pre-order Traversal:\", tree.preorder_traversal())\n",
    "    print(\"Post-order Traversal:\", tree.postorder_traversal())"
   ]
  }
 ],
 "metadata": {
  "kernelspec": {
   "display_name": "Python 3",
   "language": "python",
   "name": "python3"
  },
  "language_info": {
   "codemirror_mode": {
    "name": "ipython",
    "version": 3
   },
   "file_extension": ".py",
   "mimetype": "text/x-python",
   "name": "python",
   "nbconvert_exporter": "python",
   "pygments_lexer": "ipython3",
   "version": "3.11.4"
  }
 },
 "nbformat": 4,
 "nbformat_minor": 2
}
