{
 "cells": [
  {
   "cell_type": "code",
   "execution_count": 6,
   "metadata": {},
   "outputs": [
    {
     "name": "stdout",
     "output_type": "stream",
     "text": [
      "Build the binary tree:\n",
      "\n",
      "Pre-order traversal:\n",
      "12 12 34 43 323 12 12 32 23 23 53 43 23 88 32 43 43 23 \n",
      "In-order traversal:\n",
      "12 12 34 43 323 12 12 32 23 23 53 43 23 88 32 43 43 23 \n",
      "Post-order traversal:\n",
      "23 43 43 32 88 23 43 53 23 23 32 12 12 323 43 34 12 12 "
     ]
    }
   ],
   "source": [
    "class Node:\n",
    "    def __init__(self, value):\n",
    "        self.value = value\n",
    "        self.left = None\n",
    "        self.right = None\n",
    "\n",
    "def build_binary_tree():\n",
    "    value = input(\"Enter the value for the node (or type 'None' to skip): \")\n",
    "    if value.lower() == \"none\":\n",
    "        return None\n",
    "    new_node = Node(int(value))\n",
    "    new_node.left = build_binary_tree()\n",
    "    new_node.right = build_binary_tree()\n",
    "    return new_node\n",
    "\n",
    "def preorder_traversal(node):\n",
    "    if node:\n",
    "        print(node.value, end=\" \")\n",
    "        preorder_traversal(node.left)\n",
    "        preorder_traversal(node.right)\n",
    "\n",
    "def inorder_traversal(node):\n",
    "    if node:\n",
    "        inorder_traversal(node.left)\n",
    "        print(node.value, end=\" \")\n",
    "        inorder_traversal(node.right)\n",
    "\n",
    "def postorder_traversal(node):\n",
    "    if node:\n",
    "        postorder_traversal(node.left)\n",
    "        postorder_traversal(node.right)\n",
    "        print(node.value, end=\" \")\n",
    "\n",
    "# Build the binary tree\n",
    "print(\"Build the binary tree:\")\n",
    "root = build_binary_tree()\n",
    "\n",
    "# Perform traversals\n",
    "if root:\n",
    "    print(\"\\nPre-order traversal:\")\n",
    "    preorder_traversal(root)\n",
    "\n",
    "    print(\"\\nIn-order traversal:\")\n",
    "    inorder_traversal(root)\n",
    "\n",
    "    print(\"\\nPost-order traversal:\")\n",
    "    postorder_traversal(root)\n",
    "else:\n",
    "    print(\"Binary tree is empty.\")"
   ]
  }
 ],
 "metadata": {
  "kernelspec": {
   "display_name": "Python 3",
   "language": "python",
   "name": "python3"
  },
  "language_info": {
   "codemirror_mode": {
    "name": "ipython",
    "version": 3
   },
   "file_extension": ".py",
   "mimetype": "text/x-python",
   "name": "python",
   "nbconvert_exporter": "python",
   "pygments_lexer": "ipython3",
   "version": "3.11.4"
  }
 },
 "nbformat": 4,
 "nbformat_minor": 2
}
