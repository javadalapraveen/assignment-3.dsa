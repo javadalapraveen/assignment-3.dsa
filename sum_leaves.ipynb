{
 "cells": [
  {
   "cell_type": "code",
   "execution_count": null,
   "metadata": {},
   "outputs": [],
   "source": [
    "class Node:\n",
    "    def __init__(self, value):\n",
    "        self.value = value\n",
    "        self.left = None\n",
    "        self.right = None\n",
    "\n",
    "def build_binary_tree():\n",
    "    value = input(\"Enter the value for the node (or type 'None' to skip): \")\n",
    "    if value.lower() == \"none\":\n",
    "        return None\n",
    "    new_node = Node(int(value))\n",
    "    new_node.left = build_binary_tree()\n",
    "    new_node.right = build_binary_tree()\n",
    "    return new_node\n",
    "\n",
    "def sum_left_leaves(root, is_left=False):\n",
    "    if not root:\n",
    "        return 0\n",
    "    \n",
    "    if is_left and not root.left and not root.right:\n",
    "        return root.value\n",
    "    \n",
    "    left_sum = sum_left_leaves(root.left, True)\n",
    "    right_sum = sum_left_leaves(root.right, False)\n",
    "    \n",
    "    return left_sum + right_sum\n",
    "\n",
    "\n",
    "print(\"Build the binary tree:\")\n",
    "root = build_binary_tree()\n",
    "\n",
    "\n",
    "left_leaves_sum = sum_left_leaves(root)\n",
    "print(\"Sum of all left leaves in the binary tree:\", left_leaves_sum)"
   ]
  }
 ],
 "metadata": {
  "kernelspec": {
   "display_name": "Python 3",
   "language": "python",
   "name": "python3"
  },
  "language_info": {
   "codemirror_mode": {
    "name": "ipython",
    "version": 3
   },
   "file_extension": ".py",
   "mimetype": "text/x-python",
   "name": "python",
   "nbconvert_exporter": "python",
   "pygments_lexer": "ipython3",
   "version": "3.11.4"
  }
 },
 "nbformat": 4,
 "nbformat_minor": 2
}
