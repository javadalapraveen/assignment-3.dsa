{
 "cells": [
  {
   "cell_type": "code",
   "execution_count": null,
   "metadata": {},
   "outputs": [],
   "source": [
    "class Node:\n",
    "    def __init__(self, value):\n",
    "        self.value = value\n",
    "        self.left = None\n",
    "        self.right = None\n",
    "\n",
    "def build_binary_tree():\n",
    "    value = input(\"Enter the value for the node (or type 'None' to skip): \")\n",
    "    if value.lower() == \"none\":\n",
    "        return None\n",
    "    new_node = Node(int(value))\n",
    "    new_node.left = build_binary_tree()\n",
    "    new_node.right = build_binary_tree()\n",
    "    return new_node\n",
    "\n",
    "def count_subtrees_with_sum(node, x, count):\n",
    "    if node is None:\n",
    "        return 0\n",
    "    \n",
    "    left_sum = count_subtrees_with_sum(node.left, x, count)\n",
    "    right_sum = count_subtrees_with_sum(node.right, x, count)\n",
    "    total_sum = left_sum + right_sum + node.value\n",
    "    \n",
    "    if total_sum == x:\n",
    "        count[0] += 1\n",
    "    \n",
    "    return total_sum\n",
    "\n",
    "\n",
    "print(\"Build the binary tree:\")\n",
    "root = build_binary_tree()\n",
    "\n",
    "\n",
    "x = int(input(\"Enter the target sum (x): \"))\n",
    "\n",
    "\n",
    "count = [0] \n",
    "count_subtrees_with_sum(root, x, count)\n",
    "print(\"Number of subtrees with sum equal to\", x, \"is\", count[0])"
   ]
  }
 ],
 "metadata": {
  "language_info": {
   "name": "python"
  }
 },
 "nbformat": 4,
 "nbformat_minor": 2
}
