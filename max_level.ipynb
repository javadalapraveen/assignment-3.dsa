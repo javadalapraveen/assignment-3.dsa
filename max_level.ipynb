{
 "cells": [
  {
   "cell_type": "code",
   "execution_count": null,
   "metadata": {},
   "outputs": [],
   "source": [
    "class Node:\n",
    "    def __init__(self, value):\n",
    "        self.value = value\n",
    "        self.left = None\n",
    "        self.right = None\n",
    "\n",
    "def build_binary_tree():\n",
    "    value = input(\"Enter the value for the node (or type 'None' to skip): \")\n",
    "    if value.lower() == \"none\":\n",
    "        return None\n",
    "    new_node = Node(int(value))\n",
    "    new_node.left = build_binary_tree()\n",
    "    new_node.right = build_binary_tree()\n",
    "    return new_node\n",
    "\n",
    "def max_level_sum(root):\n",
    "    if not root:\n",
    "        return 0\n",
    "    \n",
    "    max_sum = float('-inf')\n",
    "    level = 1\n",
    "    queue = [root]\n",
    "    \n",
    "    while queue:\n",
    "        level_sum = sum(node.value for node in queue)\n",
    "        if level_sum > max_sum:\n",
    "            max_sum = level_sum\n",
    "            max_level = level\n",
    "        \n",
    "        temp_queue = []\n",
    "        for node in queue:\n",
    "            if node.left:\n",
    "                temp_queue.append(node.left)\n",
    "            if node.right:\n",
    "                temp_queue.append(node.right)\n",
    "        queue = temp_queue\n",
    "        level += 1\n",
    "    \n",
    "    return max_level, max_sum\n",
    "\n",
    "\n",
    "print(\"Build the binary tree:\")\n",
    "root = build_binary_tree()\n",
    "\n",
    "max_level, max_sum = max_level_sum(root)\n",
    "print(\"Level with maximum sum:\", max_level)\n",
    "print(\"Maximum sum at this level:\", max_sum)"
   ]
  }
 ],
 "metadata": {
  "kernelspec": {
   "display_name": "Python 3",
   "language": "python",
   "name": "python3"
  },
  "language_info": {
   "codemirror_mode": {
    "name": "ipython",
    "version": 3
   },
   "file_extension": ".py",
   "mimetype": "text/x-python",
   "name": "python",
   "nbconvert_exporter": "python",
   "pygments_lexer": "ipython3",
   "version": "3.11.4"
  }
 },
 "nbformat": 4,
 "nbformat_minor": 2
}
