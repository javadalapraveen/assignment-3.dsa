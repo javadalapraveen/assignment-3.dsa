{
 "cells": [
  {
   "cell_type": "code",
   "execution_count": null,
   "metadata": {},
   "outputs": [],
   "source": [
    "class Node:\n",
    "    def __init__(self, value):\n",
    "        self.value = value\n",
    "        self.left = None\n",
    "        self.right = None\n",
    "\n",
    "def build_binary_tree():\n",
    "    value = input(\"Enter the value for the node (or type 'None' to skip): \")\n",
    "    if value.lower() == \"none\":\n",
    "        return None\n",
    "    new_node = Node(int(value))\n",
    "    new_node.left = build_binary_tree()\n",
    "    new_node.right = build_binary_tree()\n",
    "    return new_node\n",
    "\n",
    "def print_odd_level_nodes(root, level=1):\n",
    "    if not root:\n",
    "        return\n",
    "    \n",
    "    if level % 2 != 0:\n",
    "        print(root.value, end=\" \")\n",
    "    \n",
    "    print_odd_level_nodes(root.left, level + 1)\n",
    "    print_odd_level_nodes(root.right, level + 1)\n",
    "\n",
    "\n",
    "print(\"Build the binary tree:\")\n",
    "root = build_binary_tree()\n",
    "\n",
    "\n",
    "print(\"\\nNodes at odd levels:\")\n",
    "print_odd_level_nodes(root)"
   ]
  }
 ],
 "metadata": {
  "language_info": {
   "name": "python"
  }
 },
 "nbformat": 4,
 "nbformat_minor": 2
}
